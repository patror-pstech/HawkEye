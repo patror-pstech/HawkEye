{
 "cells": [
  {
   "cell_type": "code",
   "execution_count": 4,
   "metadata": {
    "scrolled": true
   },
   "outputs": [
    {
     "name": "stdout",
     "output_type": "stream",
     "text": [
      "<project_lib.project.Project object at 0x7f52044e94a8>\n",
      "<project_lib.utils.project_context.ProjectContext object at 0x7f52044e9320>\n"
     ]
    }
   ],
   "source": [
    "# @hidden_cell\n",
    "# The project token is an authorization token that is used to access project resources like data sources, connections, and used by platform APIs.\n",
    "from project_lib import Project\n",
    "project = Project(project_id='76dc74a2-d33c-4acb-8d27-dc3ddf423102', project_access_token='p-185703585a3d53d4fc6f817e963af8c4f6a1d361')\n",
    "pc = project.project_context\n",
    "print(project)\n",
    "print(pc)"
   ]
  },
  {
   "cell_type": "markdown",
   "metadata": {},
   "source": [
    "# Watson Visual Recognition Model usage... \n",
    "## work in progress"
   ]
  },
  {
   "cell_type": "code",
   "execution_count": 8,
   "metadata": {
    "scrolled": true
   },
   "outputs": [
    {
     "name": "stdout",
     "output_type": "stream",
     "text": [
      "Python 3.6.8 :: Anaconda, Inc.\n",
      "Collecting paho-mqtt\n",
      "\u001b[?25l  Downloading https://files.pythonhosted.org/packages/25/63/db25e62979c2a716a74950c9ed658dce431b5cb01fde29eb6cba9489a904/paho-mqtt-1.4.0.tar.gz (88kB)\n",
      "\u001b[K     |████████████████████████████████| 92kB 343kB/s eta 0:00:01\n",
      "\u001b[?25hBuilding wheels for collected packages: paho-mqtt\n",
      "  Building wheel for paho-mqtt (setup.py) ... \u001b[?25ldone\n",
      "\u001b[?25h  Stored in directory: /home/dsxuser/.cache/pip/wheels/82/e5/de/d90d0f397648a1b58ffeea1b5742ac8c77f71fd43b550fa5a5\n",
      "Successfully built paho-mqtt\n",
      "Installing collected packages: paho-mqtt\n",
      "Successfully installed paho-mqtt-1.4.0\n"
     ]
    }
   ],
   "source": [
    "# check Python version\n",
    "!python -V\n",
    "# pip install --upgrade \"watson-developer-cloud>=2.4.1\"\n",
    "# pip install --upgrade \"ibm-watson>=3.0.4\"\n",
    "!pip -q install watson-developer-cloud==2.5.1\n",
    "!pip install paho-mqtt"
   ]
  },
  {
   "cell_type": "code",
   "execution_count": 9,
   "metadata": {},
   "outputs": [],
   "source": [
    "# Run the command if ibm_boto3 is not installed.\n",
    "# !pip install ibm-cos-sdk"
   ]
  },
  {
   "cell_type": "code",
   "execution_count": 10,
   "metadata": {},
   "outputs": [],
   "source": [
    "# Install the boto library.\n",
    "import ibm_boto3\n",
    "from ibm_botocore.client import Config"
   ]
  },
  {
   "cell_type": "code",
   "execution_count": 11,
   "metadata": {},
   "outputs": [],
   "source": [
    "# Define endpoint information.\n",
    "service_endpoint = 'https://s3-api.us-geo.objectstorage.softlayer.net'"
   ]
  },
  {
   "cell_type": "code",
   "execution_count": 12,
   "metadata": {},
   "outputs": [],
   "source": [
    "# Define the authorization endpoint.\n",
    "auth_endpoint = 'https://iam.bluemix.net/oidc/token'"
   ]
  },
  {
   "cell_type": "code",
   "execution_count": 13,
   "metadata": {},
   "outputs": [],
   "source": [
    "# @hidden_cell\n",
    "cos_credentials = {\n",
    "  \"apikey\": \"2ipjO2frCyVovFvWczZbm2KhLYqNXv5hSahxT193Oi7g\",\n",
    "  \"cos_hmac_keys\": {\n",
    "    \"access_key_id\": \"d8bce4166a0f4b17b05b5ac45a9e94f4\",\n",
    "    \"secret_access_key\": \"758b7bbeda4987a847af9caa406eb5d0ef0476e5bca66662\"\n",
    "  },\n",
    "  \"endpoints\": \"https://control.cloud-object-storage.cloud.ibm.com/v2/endpoints\",\n",
    "  \"iam_apikey_description\": \"Auto-generated for key d8bce416-6a0f-4b17-b05b-5ac45a9e94f4\",\n",
    "  \"iam_apikey_name\": \"HawkEyeServiceCredentials1\",\n",
    "  \"iam_role_crn\": \"crn:v1:bluemix:public:iam::::serviceRole:Writer\",\n",
    "  \"iam_serviceid_crn\": \"crn:v1:bluemix:public:iam-identity::a/64704b3c4d01439bad96805ae9cac499::serviceid:ServiceId-b0dcd823-b177-4fb8-b203-db6210e9b925\",\n",
    "  \"resource_instance_id\": \"crn:v1:bluemix:public:cloud-object-storage:global:a/64704b3c4d01439bad96805ae9cac499:62dae09c-b741-461f-bb93-7f1fa7aa5aed::\"\n",
    "}"
   ]
  },
  {
   "cell_type": "code",
   "execution_count": 14,
   "metadata": {},
   "outputs": [],
   "source": [
    "# Create a COS resource.\n",
    "cos = ibm_boto3.resource('s3',\n",
    "                         ibm_api_key_id=cos_credentials['apikey'],\n",
    "                         ibm_service_instance_id=cos_credentials['resource_instance_id'],\n",
    "                         ibm_auth_endpoint=auth_endpoint,\n",
    "                         config=Config(signature_version='oauth'),\n",
    "                         endpoint_url=service_endpoint)"
   ]
  },
  {
   "cell_type": "code",
   "execution_count": 15,
   "metadata": {},
   "outputs": [
    {
     "name": "stdout",
     "output_type": "stream",
     "text": [
      "[s3.Bucket(name='hawkeyeflooddetection-donotdelete-pr-9dirx1ijye8ozp'), s3.Bucket(name='sql-7f499951-1ba1-41e5-bb4e-acdfdf6d1afb'), s3.Bucket(name='training-mnist-data-1bc6cde3-e15c-448f-accb-2516b508f43b'), s3.Bucket(name='training-mnist-results-1bc6cde3-e15c-448f-accb-2516b508f43b')]\n"
     ]
    }
   ],
   "source": [
    "# Display a list of created buckets.\n",
    "print(list(cos.buckets.all()))"
   ]
  },
  {
   "cell_type": "code",
   "execution_count": null,
   "metadata": {},
   "outputs": [],
   "source": [
    "import json\n",
    "import base64\n",
    "import calendar\n",
    "import time\n",
    "\n",
    "import watson_developer_cloud\n",
    "from watson_developer_cloud import VisualRecognitionV3\n",
    "\n",
    "import paho.mqtt.client as mqtt"
   ]
  },
  {
   "cell_type": "code",
   "execution_count": null,
   "metadata": {},
   "outputs": [],
   "source": [
    "\"\"\"\n",
    "JSON Dumps Encoder\n",
    "\"\"\"\n",
    "class MyEncoder(json.JSONEncoder):\n",
    "        def default(self, o):\n",
    "            return o.__dict__"
   ]
  },
  {
   "cell_type": "code",
   "execution_count": null,
   "metadata": {},
   "outputs": [],
   "source": [
    "\"\"\"\n",
    "IBM Watson Visual Recognition Object\n",
    "\"\"\"\n",
    "visual_recognition = VisualRecognitionV3(\n",
    "    version    = '2018-03-19',\n",
    "    iam_apikey = 'K8-xMjYk_BdKRR5DqrVKovBmso4Icxi7QEv3nVTEGo-f',\n",
    ")"
   ]
  },
  {
   "cell_type": "code",
   "execution_count": null,
   "metadata": {},
   "outputs": [],
   "source": [
    "\"\"\"\n",
    "MQTT Subscription\n",
    "\"\"\"\n",
    "# The callback for when the client receives a CONNACK response from the server.\n",
    "def on_connect(client, userdata, flags, rc):\n",
    "    #print(\"Connected with result code \"+str(rc))\n",
    "\n",
    "    # Subscribing in on_connect() means that if we lose the connection and\n",
    "    # reconnect then subscriptions will be renewed.\n",
    "    client.subscribe(\"incoming/pictures/#\")\n",
    "    with open(\"/watson/hackaton/images/flood.jpg\", \"rb\") as flood_image:\n",
    "\t    encoded_flood_image = base64.b64encode(flood_image.read())\n",
    "    with open(\"/watson/hackaton/images/sand.jpg\", \"rb\") as sand_image:\n",
    "\t    encoded_sand_image = base64.b64encode(sand_image.read())\n",
    "    client.publish(\"incoming/pictures/india\", payload=encoded_flood_image)\n",
    "    client.publish(\"incoming/pictures/india\", payload=encoded_sand_image)\n",
    "    print(\"Images published!\")\n"
   ]
  },
  {
   "cell_type": "code",
   "execution_count": null,
   "metadata": {},
   "outputs": [],
   "source": [
    "\"\"\"\n",
    "IOT messages treatment\n",
    "\"\"\"\n",
    "# The callback for when a PUBLISH message is received from the server.\n",
    "def on_message(client, userdata, msg):\n",
    "    encoded_image = msg.payload\n",
    "    # Stores the image\n",
    "    with open(\"/watson/hackaton/images/image.jpg\", \"wb\") as iot_image:\n",
    "        iot_image.write(base64.decodebytes(encoded_image))\n",
    "    print(\"Image received!\")\n",
    "\t###########################################################################\n",
    "\t# Here we have to code the extraction of the image metadata (geolocation) #\n",
    "\t###########################################################################\n",
    "    # Sends the image to Watson\n",
    "    with open('/watson/hackaton/images/image.jpg', 'rb') as iot_image:\n",
    "        response = visual_recognition.classify(iot_image, threshold=0.0, owners=[\"me\"])\n",
    "        response_dump = json.dumps(response, cls=MyEncoder, indent=2)\n",
    "        parser = json.loads(response_dump)\n",
    "        print(\"Image sent to Watson!\")\n",
    "        # Flood Class\n",
    "        image_class = parser[\"result\"][\"images\"][0][\"classifiers\"][0][\"classes\"][0][\"class\"]\n",
    "        # Flood Level\n",
    "        image_score = str(parser[\"result\"][\"images\"][0][\"classifiers\"][0][\"classes\"][0][\"score\"])\n",
    "        timestamp = calendar.timegm(time.gmtime())\n",
    "        print(image_score)\n",
    "        if float(image_score) > 0.6:\n",
    "            print(\"Image has score greater than 0.6. Alert sent to the chat!\")\n",
    "            client.publish(\"users/chatbot_hawkeye\", payload=\"{\\\"timestamp\\\":\\\"\" + str(timestamp) + \"\\\"}\", qos=0, retain=False)\n",
    "            client.publish(\"chat\", payload=\"{\\\"clientId\\\": \\\"chatbot_hawkeye\\\", \\\"textReply\\\": \\\"Flood Alert!\\nLatitude : 17.419310, Longitude : 78.337980\\nLink : \\\"}\", qos=0, retain=False)"
   ]
  },
  {
   "cell_type": "code",
   "execution_count": null,
   "metadata": {
    "scrolled": true
   },
   "outputs": [],
   "source": [
    "client = mqtt.Client(\"HawkEyes\")\n",
    "client.on_connect = on_connect\n",
    "client.on_message = on_message\n",
    "\n",
    "client.connect(\"frparvm-ion01\", 1883, 60)"
   ]
  },
  {
   "cell_type": "code",
   "execution_count": null,
   "metadata": {
    "scrolled": true
   },
   "outputs": [],
   "source": [
    "# @hidden_cell\n",
    "from ibm_watson import VisualRecognitionV3\n",
    "\n",
    "visual_recognition = VisualRecognitionV3(\n",
    "    version    = '2018-03-19',\n",
    "    iam_apikey = 'K8-xMjYk_BdKRR5DqrVKovBmso4Icxi7QEv3nVTEGo-f'\n",
    ")"
   ]
  },
  {
   "cell_type": "markdown",
   "metadata": {},
   "source": [
    "# SQL Installation"
   ]
  },
  {
   "cell_type": "code",
   "execution_count": 5,
   "metadata": {},
   "outputs": [
    {
     "name": "stdout",
     "output_type": "stream",
     "text": [
      "Collecting jupyter-sql\n",
      "  Downloading https://files.pythonhosted.org/packages/5d/8e/f02aed2c371b4fadc8a9cda4cc9bb40564a6630396523baf26debb1222a8/jupyter_sql-0.1.0-py3-none-any.whl\n",
      "Requirement already satisfied: sqlalchemy in /opt/conda/envs/Python36/lib/python3.6/site-packages (from jupyter-sql) (1.2.18)\n",
      "Requirement already satisfied: jupyter-client in /opt/conda/envs/Python36/lib/python3.6/site-packages (from jupyter-sql) (5.2.4)\n",
      "Requirement already satisfied: ipython in /opt/conda/envs/Python36/lib/python3.6/site-packages (from jupyter-sql) (7.2.0)\n",
      "Requirement already satisfied: jupyter in /opt/conda/envs/Python36/lib/python3.6/site-packages (from jupyter-sql) (1.0.0)\n",
      "Collecting sqlparse (from jupyter-sql)\n",
      "  Downloading https://files.pythonhosted.org/packages/ef/53/900f7d2a54557c6a37886585a91336520e5539e3ae2423ff1102daf4f3a7/sqlparse-0.3.0-py2.py3-none-any.whl\n",
      "Requirement already satisfied: traitlets in /opt/conda/envs/Python36/lib/python3.6/site-packages (from jupyter-client->jupyter-sql) (4.3.2)\n",
      "Requirement already satisfied: jupyter-core in /opt/conda/envs/Python36/lib/python3.6/site-packages (from jupyter-client->jupyter-sql) (4.4.0)\n",
      "Requirement already satisfied: pyzmq>=13 in /opt/conda/envs/Python36/lib/python3.6/site-packages (from jupyter-client->jupyter-sql) (17.1.2)\n",
      "Requirement already satisfied: tornado>=4.1 in /opt/conda/envs/Python36/lib/python3.6/site-packages (from jupyter-client->jupyter-sql) (5.1.1)\n",
      "Requirement already satisfied: python-dateutil>=2.1 in /opt/conda/envs/Python36/lib/python3.6/site-packages (from jupyter-client->jupyter-sql) (2.7.5)\n",
      "Requirement already satisfied: pygments in /opt/conda/envs/Python36/lib/python3.6/site-packages (from ipython->jupyter-sql) (2.3.1)\n",
      "Requirement already satisfied: backcall in /opt/conda/envs/Python36/lib/python3.6/site-packages (from ipython->jupyter-sql) (0.1.0)\n",
      "Requirement already satisfied: jedi>=0.10 in /opt/conda/envs/Python36/lib/python3.6/site-packages (from ipython->jupyter-sql) (0.13.2)\n",
      "Requirement already satisfied: pickleshare in /opt/conda/envs/Python36/lib/python3.6/site-packages (from ipython->jupyter-sql) (0.7.5)\n",
      "Requirement already satisfied: prompt-toolkit<2.1.0,>=2.0.0 in /opt/conda/envs/Python36/lib/python3.6/site-packages (from ipython->jupyter-sql) (2.0.8)\n",
      "Requirement already satisfied: pexpect; sys_platform != \"win32\" in /opt/conda/envs/Python36/lib/python3.6/site-packages (from ipython->jupyter-sql) (4.6.0)\n",
      "Requirement already satisfied: decorator in /opt/conda/envs/Python36/lib/python3.6/site-packages (from ipython->jupyter-sql) (4.3.2)\n",
      "Requirement already satisfied: setuptools>=18.5 in /opt/conda/envs/Python36/lib/python3.6/site-packages (from ipython->jupyter-sql) (40.8.0)\n",
      "Requirement already satisfied: qtconsole in /opt/conda/envs/Python36/lib/python3.6/site-packages (from jupyter->jupyter-sql) (4.4.3)\n",
      "Requirement already satisfied: notebook in /opt/conda/envs/Python36/lib/python3.6/site-packages (from jupyter->jupyter-sql) (5.7.8)\n",
      "Requirement already satisfied: jupyter-console in /opt/conda/envs/Python36/lib/python3.6/site-packages (from jupyter->jupyter-sql) (6.0.0)\n",
      "Requirement already satisfied: nbconvert in /opt/conda/envs/Python36/lib/python3.6/site-packages (from jupyter->jupyter-sql) (5.4.0)\n",
      "Requirement already satisfied: ipykernel in /opt/conda/envs/Python36/lib/python3.6/site-packages (from jupyter->jupyter-sql) (5.1.0)\n",
      "Requirement already satisfied: ipywidgets in /opt/conda/envs/Python36/lib/python3.6/site-packages (from jupyter->jupyter-sql) (7.4.2)\n",
      "Requirement already satisfied: ipython-genutils in /opt/conda/envs/Python36/lib/python3.6/site-packages (from traitlets->jupyter-client->jupyter-sql) (0.2.0)\n",
      "Requirement already satisfied: six in /opt/conda/envs/Python36/lib/python3.6/site-packages (from traitlets->jupyter-client->jupyter-sql) (1.12.0)\n",
      "Requirement already satisfied: parso>=0.3.0 in /opt/conda/envs/Python36/lib/python3.6/site-packages (from jedi>=0.10->ipython->jupyter-sql) (0.3.2)\n",
      "Requirement already satisfied: wcwidth in /opt/conda/envs/Python36/lib/python3.6/site-packages (from prompt-toolkit<2.1.0,>=2.0.0->ipython->jupyter-sql) (0.1.7)\n",
      "Requirement already satisfied: ptyprocess>=0.5 in /opt/conda/envs/Python36/lib/python3.6/site-packages (from pexpect; sys_platform != \"win32\"->ipython->jupyter-sql) (0.6.0)\n",
      "Requirement already satisfied: Send2Trash in /opt/conda/envs/Python36/lib/python3.6/site-packages (from notebook->jupyter->jupyter-sql) (1.5.0)\n",
      "Requirement already satisfied: prometheus-client in /opt/conda/envs/Python36/lib/python3.6/site-packages (from notebook->jupyter->jupyter-sql) (0.5.0)\n",
      "Requirement already satisfied: terminado>=0.8.1 in /opt/conda/envs/Python36/lib/python3.6/site-packages (from notebook->jupyter->jupyter-sql) (0.8.1)\n",
      "Requirement already satisfied: jinja2 in /opt/conda/envs/Python36/lib/python3.6/site-packages (from notebook->jupyter->jupyter-sql) (2.10)\n",
      "Requirement already satisfied: nbformat in /opt/conda/envs/Python36/lib/python3.6/site-packages (from notebook->jupyter->jupyter-sql) (4.4.0)\n",
      "Requirement already satisfied: mistune>=0.8.1 in /opt/conda/envs/Python36/lib/python3.6/site-packages (from nbconvert->jupyter->jupyter-sql) (0.8.4)\n",
      "Requirement already satisfied: entrypoints>=0.2.2 in /opt/conda/envs/Python36/lib/python3.6/site-packages (from nbconvert->jupyter->jupyter-sql) (0.3)\n",
      "Requirement already satisfied: bleach in /opt/conda/envs/Python36/lib/python3.6/site-packages (from nbconvert->jupyter->jupyter-sql) (3.1.0)\n",
      "Requirement already satisfied: pandocfilters>=1.4.1 in /opt/conda/envs/Python36/lib/python3.6/site-packages (from nbconvert->jupyter->jupyter-sql) (1.4.2)\n",
      "Requirement already satisfied: testpath in /opt/conda/envs/Python36/lib/python3.6/site-packages (from nbconvert->jupyter->jupyter-sql) (0.4.2)\n",
      "Requirement already satisfied: defusedxml in /opt/conda/envs/Python36/lib/python3.6/site-packages (from nbconvert->jupyter->jupyter-sql) (0.5.0)\n",
      "Requirement already satisfied: widgetsnbextension~=3.4.0 in /opt/conda/envs/Python36/lib/python3.6/site-packages (from ipywidgets->jupyter->jupyter-sql) (3.4.2)\n",
      "Requirement already satisfied: MarkupSafe>=0.23 in /opt/conda/envs/Python36/lib/python3.6/site-packages (from jinja2->notebook->jupyter->jupyter-sql) (1.1.0)\n",
      "Requirement already satisfied: jsonschema!=2.5.0,>=2.4 in /opt/conda/envs/Python36/lib/python3.6/site-packages (from nbformat->notebook->jupyter->jupyter-sql) (2.6.0)\n",
      "Requirement already satisfied: webencodings in /opt/conda/envs/Python36/lib/python3.6/site-packages (from bleach->nbconvert->jupyter->jupyter-sql) (0.5.1)\n",
      "Installing collected packages: sqlparse, jupyter-sql\n",
      "Successfully installed jupyter-sql-0.1.0 sqlparse-0.3.0\n",
      "Collecting ipython-sql\n",
      "  Downloading https://files.pythonhosted.org/packages/ab/df/427e7cf05ffc67e78672ad57dce2436c1e825129033effe6fcaf804d0c60/ipython_sql-0.3.9-py2.py3-none-any.whl\n",
      "Requirement already satisfied: ipython-genutils>=0.1.0 in /opt/conda/envs/Python36/lib/python3.6/site-packages (from ipython-sql) (0.2.0)\n",
      "Requirement already satisfied: six in /opt/conda/envs/Python36/lib/python3.6/site-packages (from ipython-sql) (1.12.0)\n",
      "Requirement already satisfied: ipython>=1.0 in /opt/conda/envs/Python36/lib/python3.6/site-packages (from ipython-sql) (7.2.0)\n",
      "Requirement already satisfied: sqlparse in /opt/conda/envs/Python36/lib/python3.6/site-packages (from ipython-sql) (0.3.0)\n",
      "Collecting prettytable (from ipython-sql)\n",
      "  Downloading https://files.pythonhosted.org/packages/ef/30/4b0746848746ed5941f052479e7c23d2b56d174b82f4fd34a25e389831f5/prettytable-0.7.2.tar.bz2\n",
      "Requirement already satisfied: sqlalchemy>=0.6.7 in /opt/conda/envs/Python36/lib/python3.6/site-packages (from ipython-sql) (1.2.18)\n",
      "Requirement already satisfied: prompt-toolkit<2.1.0,>=2.0.0 in /opt/conda/envs/Python36/lib/python3.6/site-packages (from ipython>=1.0->ipython-sql) (2.0.8)\n",
      "Requirement already satisfied: jedi>=0.10 in /opt/conda/envs/Python36/lib/python3.6/site-packages (from ipython>=1.0->ipython-sql) (0.13.2)\n",
      "Requirement already satisfied: pickleshare in /opt/conda/envs/Python36/lib/python3.6/site-packages (from ipython>=1.0->ipython-sql) (0.7.5)\n",
      "Requirement already satisfied: traitlets>=4.2 in /opt/conda/envs/Python36/lib/python3.6/site-packages (from ipython>=1.0->ipython-sql) (4.3.2)\n",
      "Requirement already satisfied: pexpect; sys_platform != \"win32\" in /opt/conda/envs/Python36/lib/python3.6/site-packages (from ipython>=1.0->ipython-sql) (4.6.0)\n",
      "Requirement already satisfied: pygments in /opt/conda/envs/Python36/lib/python3.6/site-packages (from ipython>=1.0->ipython-sql) (2.3.1)\n",
      "Requirement already satisfied: backcall in /opt/conda/envs/Python36/lib/python3.6/site-packages (from ipython>=1.0->ipython-sql) (0.1.0)\n",
      "Requirement already satisfied: decorator in /opt/conda/envs/Python36/lib/python3.6/site-packages (from ipython>=1.0->ipython-sql) (4.3.2)\n",
      "Requirement already satisfied: setuptools>=18.5 in /opt/conda/envs/Python36/lib/python3.6/site-packages (from ipython>=1.0->ipython-sql) (40.8.0)\n",
      "Requirement already satisfied: wcwidth in /opt/conda/envs/Python36/lib/python3.6/site-packages (from prompt-toolkit<2.1.0,>=2.0.0->ipython>=1.0->ipython-sql) (0.1.7)\n",
      "Requirement already satisfied: parso>=0.3.0 in /opt/conda/envs/Python36/lib/python3.6/site-packages (from jedi>=0.10->ipython>=1.0->ipython-sql) (0.3.2)\n",
      "Requirement already satisfied: ptyprocess>=0.5 in /opt/conda/envs/Python36/lib/python3.6/site-packages (from pexpect; sys_platform != \"win32\"->ipython>=1.0->ipython-sql) (0.6.0)\n",
      "Building wheels for collected packages: prettytable\n",
      "  Building wheel for prettytable (setup.py) ... \u001b[?25ldone\n",
      "\u001b[?25h  Stored in directory: /home/dsxuser/.cache/pip/wheels/80/34/1c/3967380d9676d162cb59513bd9dc862d0584e045a162095606\n",
      "Successfully built prettytable\n",
      "Installing collected packages: prettytable, ipython-sql\n",
      "Successfully installed ipython-sql-0.3.9 prettytable-0.7.2\n"
     ]
    }
   ],
   "source": [
    "!pip install jupyter-sql\n",
    "!pip install ipython-sql"
   ]
  },
  {
   "cell_type": "code",
   "execution_count": null,
   "metadata": {},
   "outputs": [],
   "source": []
  },
  {
   "cell_type": "code",
   "execution_count": null,
   "metadata": {},
   "outputs": [],
   "source": []
  },
  {
   "cell_type": "markdown",
   "metadata": {},
   "source": [
    "# SQL"
   ]
  },
  {
   "cell_type": "code",
   "execution_count": 6,
   "metadata": {},
   "outputs": [],
   "source": [
    "!pip -q install ibmcloudsql\n",
    "!pip -q install sqlparse"
   ]
  },
  {
   "cell_type": "code",
   "execution_count": 7,
   "metadata": {},
   "outputs": [
    {
     "name": "stdout",
     "output_type": "stream",
     "text": [
      "Pixiedust database opened successfully\n",
      "Table VERSION_TRACKER created successfully\n",
      "Table METRICS_TRACKER created successfully\n",
      "\n",
      "Share anonymous install statistics? (opt-out instructions)\n",
      "\n",
      "PixieDust will record metadata on its environment the next time the package is installed or updated. The data is anonymized and aggregated to help plan for future releases, and records only the following values:\n",
      "\n",
      "{\n",
      "   \"data_sent\": currentDate,\n",
      "   \"runtime\": \"python\",\n",
      "   \"application_version\": currentPixiedustVersion,\n",
      "   \"space_id\": nonIdentifyingUniqueId,\n",
      "   \"config\": {\n",
      "       \"repository_id\": \"https://github.com/ibm-watson-data-lab/pixiedust\",\n",
      "       \"target_runtimes\": [\"Data Science Experience\"],\n",
      "       \"event_id\": \"web\",\n",
      "       \"event_organizer\": \"dev-journeys\"\n",
      "   }\n",
      "}\n",
      "You can opt out by calling pixiedust.optOut() in a new cell.\n"
     ]
    },
    {
     "data": {
      "text/html": [
       "\n",
       "        <div style=\"margin:10px\">\n",
       "            <a href=\"https://github.com/ibm-watson-data-lab/pixiedust\" target=\"_new\">\n",
       "                <img src=\"https://github.com/ibm-watson-data-lab/pixiedust/raw/master/docs/_static/pd_icon32.png\" style=\"float:left;margin-right:10px\"/>\n",
       "            </a>\n",
       "            <span>Pixiedust version 1.1.17</span>\n",
       "        </div>\n",
       "        "
      ],
      "text/plain": [
       "<IPython.core.display.HTML object>"
      ]
     },
     "metadata": {},
     "output_type": "display_data"
    },
    {
     "name": "stdout",
     "output_type": "stream",
     "text": [
      "\u001b[31mPixiedust runtime updated. Please restart kernel\u001b[0m\n",
      "Table USER_PREFERENCES created successfully\n",
      "Table service_connections created successfully\n"
     ]
    }
   ],
   "source": [
    "import ibmcloudsql\n",
    "from pixiedust.display import *\n",
    "import pandas as pd\n",
    "targeturl=''"
   ]
  },
  {
   "cell_type": "code",
   "execution_count": 8,
   "metadata": {},
   "outputs": [
    {
     "name": "stdout",
     "output_type": "stream",
     "text": [
      "{'bucket_name': 'hawkeyeflooddetection-donotdelete-pr-9dirx1ijye8ozp', 'bucket_region': 'eu-geo', 'endpoint_url': 'https://s3.eu-geo.objectstorage.softlayer.net', 'credentials': {'editor': {'api_key': 'I0xWNZpkJjnwnsdTDoNnQbIC-Q9OoVpPu_nOjnDJ3QXm', 'service_id': 'iam-ServiceId-f52507e7-d5ec-4e9a-96fb-9bea2bc7c2ee', 'access_key_id': 'b58a12131744416a85c093621cb5d89a', 'secret_access_key': '1127f4e312180555a246ef35cadab967ef432c1d9a8355e6', 'resource_key_crn': 'crn:v1:bluemix:public:cloud-object-storage:global:a/64704b3c4d01439bad96805ae9cac499:62dae09c-b741-461f-bb93-7f1fa7aa5aed:resource-key:b58a1213-1744-416a-85c0-93621cb5d89a'}, 'viewer': {'api_key': 'VyCt__Ci-cTg8tiZ89WNLES6Zfkaw-C76JrvrnssXJRt', 'service_id': 'iam-ServiceId-6dda2db4-f3b2-4728-9039-9bf9dbf03d1a', 'access_key_id': '35b54aecbd17452a98074443228a1683', 'secret_access_key': 'ba81c9439e1d431f1da7c11a31c18eb5ccf42ac158514ab0', 'resource_key_crn': 'crn:v1:bluemix:public:cloud-object-storage:global:a/64704b3c4d01439bad96805ae9cac499:62dae09c-b741-461f-bb93-7f1fa7aa5aed:resource-key:35b54aec-bd17-452a-9807-4443228a1683'}}}\n",
      "cos://eu-geo/hawkeyeflooddetection-donotdelete-pr-9dirx1ijye8ozp/\n",
      "cos://us-south/sql-7f499951-1ba1-41e5-bb4e-acdfdf6d1afb/\n"
     ]
    }
   ],
   "source": [
    "cos_bucket = project.get_metadata()['entity']['storage']['properties']\n",
    "print(cos_bucket)\n",
    "targeturl=\"cos://\" + cos_bucket['bucket_region'] + \"/\" + cos_bucket['bucket_name'] + \"/\"\n",
    "print(targeturl)\n",
    "targeturl=\"cos://us-south/sql-7f499951-1ba1-41e5-bb4e-acdfdf6d1afb/\"\n",
    "print(targeturl)"
   ]
  },
  {
   "cell_type": "code",
   "execution_count": 9,
   "metadata": {},
   "outputs": [],
   "source": [
    "apikey = \"_gjUNa-8nefhYqCSR3HGdkHTUcTiOFN6Slz-iAioBhA0\"\n",
    "instnacecrn = \"crn:v1:bluemix:public:sql-query:us-south:a/64704b3c4d01439bad96805ae9cac499:7f499951-1ba1-41e5-bb4e-acdfdf6d1afb::\"\n",
    "# API Endpoint\thttps://api.sql-query.cloud.ibm.com"
   ]
  },
  {
   "cell_type": "code",
   "execution_count": 10,
   "metadata": {},
   "outputs": [
    {
     "name": "stdout",
     "output_type": "stream",
     "text": [
      "\n",
      "Your SQL Query web console link:\n",
      "\n",
      "https://sql.ng.bluemix.net/sqlquery/?instance_crn=crn:v1:bluemix:public:sql-query:us-south:a/64704b3c4d01439bad96805ae9cac499:7f499951-1ba1-41e5-bb4e-acdfdf6d1afb::\n"
     ]
    }
   ],
   "source": [
    "import getpass\n",
    "# apikey=getpass.getpass('Enter IBM Cloud API Key (leave empty to use previous one): ') or apikey\n",
    "# instnacecrn=input('Enter SQL Query Instance CRN (leave empty to use previous one): ') or instnacecrn\n",
    "if targeturl == '':\n",
    "    targeturl=input('Enter target URL for SQL results: ')\n",
    "# else:\n",
    "  #  targeturl=input('Enter target URL for SQL results (leave empty to use ' + targeturl + '): ') or targeturl\n",
    "sqlClient = ibmcloudsql.SQLQuery(apikey, instnacecrn, targeturl, client_info='SQL Query Starter Notebook')\n",
    "# https://us.sql-query.cloud.ibm.com/sqlquery/?instance_crn=crn%3Av1%3Abluemix%3Apublic%3Asql-query%3Aus-south%3Aa%2F64704b3c4d01439bad96805ae9cac499%3A7f499951-1ba1-41e5-bb4e-acdfdf6d1afb%3A%3A\n",
    "sqlClient.logon()\n",
    "print('\\nYour SQL Query web console link:\\n')\n",
    "sqlClient.sql_ui_link()"
   ]
  },
  {
   "cell_type": "code",
   "execution_count": 11,
   "metadata": {},
   "outputs": [
    {
     "name": "stdout",
     "output_type": "stream",
     "text": [
      "\n",
      "Your SQL statement is:\n",
      "\n",
      "\u001b[38;5;24;01mSELECT\u001b[39;00m \u001b[38;5;166;01m*\u001b[39;00m\n",
      "\u001b[38;5;24;01mFROM\u001b[39;00m \u001b[38;5;0mcos\u001b[39m\u001b[38;5;0;01m:\u001b[39;00m\u001b[38;5;166;01m/\u001b[39;00m\u001b[38;5;166;01m/\u001b[39;00m\u001b[38;5;0mus\u001b[39m\u001b[38;5;166;01m-\u001b[39;00m\u001b[38;5;0msouth\u001b[39m\u001b[38;5;166;01m/\u001b[39;00m\u001b[38;5;24;01msql\u001b[39;00m\u001b[38;5;166;01m-\u001b[39;00m\u001b[38;5;20;01m7\u001b[39;00m\u001b[38;5;0mf499951\u001b[39m\u001b[38;5;166;01m-\u001b[39;00m\u001b[38;5;20;01m1\u001b[39;00m\u001b[38;5;0mba1\u001b[39m\u001b[38;5;166;01m-\u001b[39;00m\u001b[38;5;20;01m41\u001b[39;00m\u001b[38;5;0me5\u001b[39m\u001b[38;5;166;01m-\u001b[39;00m\u001b[38;5;0mbb4e\u001b[39m\u001b[38;5;166;01m-\u001b[39;00m\u001b[38;5;0macdfdf6d1afb\u001b[39m\u001b[38;5;166;01m/\u001b[39;00m\u001b[38;5;0mSubscriber\u001b[39m\u001b[38;5;0;01m.\u001b[39;00m\u001b[38;5;0mcsv\u001b[39m  \u001b[38;5;0mSTORED\u001b[39m \u001b[38;5;24;01mAS\u001b[39;00m \u001b[38;5;0mCSV\u001b[39m \u001b[38;5;24;01mWHERE\u001b[39;00m \u001b[38;5;0mSubscriberId\u001b[39m \u001b[38;5;166;01m=\u001b[39;00m \u001b[38;5;20;01m1\u001b[39;00m \u001b[38;5;24;01mLIMIT\u001b[39;00m \u001b[38;5;20;01m50\u001b[39;00m\n",
      "\n"
     ]
    }
   ],
   "source": [
    "import sqlparse\n",
    "from pygments import highlight\n",
    "from pygments.lexers import get_lexer_by_name\n",
    "from pygments.formatters import HtmlFormatter, Terminal256Formatter\n",
    "\n",
    "# sql=input('Enter your SQL statement (leave empty to use a simple sample SQL)')\n",
    "# sql = 'SELECT * FROM cos://us-south/sql-7f499951-1ba1-41e5-bb4e-acdfdf6d1afb/Flood_Level.csv STORED AS CSV LIMIT 5'\n",
    "# sql = 'SELECT * FROM cos://us-south/sql-7f499951-1ba1-41e5-bb4e-acdfdf6d1afb/Subscriber.csv STORED AS CSV LIMIT 50'\n",
    "# sql = \"SELECT EMAILID FROM cos://us-south/sql-7f499951-1ba1-41e5-bb4e-acdfdf6d1afb/Subscriber.csv  STORED AS CSV WHERE LEVEL < '3' LIMIT 50\"\n",
    "sql = \"SELECT * FROM cos://us-south/sql-7f499951-1ba1-41e5-bb4e-acdfdf6d1afb/Subscriber.csv  STORED AS CSV WHERE SubscriberId = 1 LIMIT 50\"\n",
    "\n",
    "if sql == '':\n",
    "    sql='SELECT o.OrderID, c.CompanyName, e.FirstName, e.LastName FROM cos://us-geo/sql/orders.parquet STORED AS PARQUET o, cos://us-geo/sql/employees.parquet STORED AS PARQUET e, cos://us-geo/sql/customers.parquet STORED AS PARQUET c WHERE e.EmployeeID = o.EmployeeID AND c.CustomerID = o.CustomerID AND o.ShippedDate > o.RequiredDate AND o.OrderDate > \"1998-01-01\" ORDER BY c.CompanyName'\n",
    "formatted_sql = sqlparse.format(sql, reindent=True, indent_tabs=True, keyword_case='upper')\n",
    "lexer = get_lexer_by_name(\"sql\", stripall=True)\n",
    "formatter = Terminal256Formatter(style='tango')\n",
    "result = highlight(formatted_sql, lexer, formatter)\n",
    "from IPython.core.display import display, HTML\n",
    "print('\\nYour SQL statement is:\\n')\n",
    "print(result)"
   ]
  },
  {
   "cell_type": "code",
   "execution_count": 12,
   "metadata": {},
   "outputs": [],
   "source": [
    "result_df = sqlClient.run_sql(sql)\n",
    "if isinstance(result_df, str):\n",
    "    print(result_df)\n",
    "    print(result_df.EmailId[0])"
   ]
  },
  {
   "cell_type": "code",
   "execution_count": 13,
   "metadata": {},
   "outputs": [
    {
     "data": {
      "text/html": [
       "<div>\n",
       "<style scoped>\n",
       "    .dataframe tbody tr th:only-of-type {\n",
       "        vertical-align: middle;\n",
       "    }\n",
       "\n",
       "    .dataframe tbody tr th {\n",
       "        vertical-align: top;\n",
       "    }\n",
       "\n",
       "    .dataframe thead th {\n",
       "        text-align: right;\n",
       "    }\n",
       "</style>\n",
       "<table border=\"1\" class=\"dataframe\">\n",
       "  <thead>\n",
       "    <tr style=\"text-align: right;\">\n",
       "      <th></th>\n",
       "      <th>SubscriberId</th>\n",
       "      <th>SubscriberType</th>\n",
       "      <th>Name</th>\n",
       "      <th>EmailId</th>\n",
       "      <th>Mobile</th>\n",
       "      <th>Whatsapp</th>\n",
       "      <th>Voice</th>\n",
       "      <th>Enroll</th>\n",
       "      <th>EnrollType</th>\n",
       "      <th>Level</th>\n",
       "      <th>Latitude</th>\n",
       "      <th>Longitude</th>\n",
       "      <th>Range</th>\n",
       "      <th>Review</th>\n",
       "      <th>Comments</th>\n",
       "    </tr>\n",
       "  </thead>\n",
       "  <tbody>\n",
       "    <tr>\n",
       "      <th>0</th>\n",
       "      <td>1</td>\n",
       "      <td>'Authority'</td>\n",
       "      <td>'RanjanPatro'</td>\n",
       "      <td>ranjan.patro@capgemini.com</td>\n",
       "      <td>917008897423</td>\n",
       "      <td>919908086992</td>\n",
       "      <td>0</td>\n",
       "      <td>True</td>\n",
       "      <td>12</td>\n",
       "      <td>1</td>\n",
       "      <td>17.41931</td>\n",
       "      <td>78.33798</td>\n",
       "      <td>10</td>\n",
       "      <td>''</td>\n",
       "      <td>''</td>\n",
       "    </tr>\n",
       "  </tbody>\n",
       "</table>\n",
       "</div>"
      ],
      "text/plain": [
       "   SubscriberId SubscriberType           Name                     EmailId  \\\n",
       "0             1    'Authority'  'RanjanPatro'  ranjan.patro@capgemini.com   \n",
       "\n",
       "         Mobile      Whatsapp  Voice  Enroll  EnrollType  Level  Latitude  \\\n",
       "0  917008897423  919908086992      0    True          12      1  17.41931   \n",
       "\n",
       "   Longitude  Range Review Comments  \n",
       "0   78.33798     10     ''       ''  "
      ]
     },
     "execution_count": 13,
     "metadata": {},
     "output_type": "execute_result"
    }
   ],
   "source": [
    "result_df.head(10)"
   ]
  },
  {
   "cell_type": "markdown",
   "metadata": {},
   "source": [
    "# Email"
   ]
  },
  {
   "cell_type": "code",
   "execution_count": 14,
   "metadata": {},
   "outputs": [],
   "source": [
    "#!/usr/bin/env python\n",
    "# encoding: utf-8\n",
    "\n",
    "import smtplib\n",
    "from datetime import datetime"
   ]
  },
  {
   "cell_type": "code",
   "execution_count": 15,
   "metadata": {},
   "outputs": [],
   "source": [
    "def noticeEMail( usr, psw, fromaddr, toaddr):\n",
    "        # Initialize SMTP server\n",
    "    server=smtplib.SMTP('smtp.gmail.com:587')\n",
    "    server.starttls()\n",
    "    server.login(usr,psw)\n",
    "      # Send email\n",
    "    senddate=datetime.strftime(datetime.now(), '%Y-%m-%d')\n",
    "    subject=\"Your job has completed\"\n",
    "    m=\"Date: %s\\r\\nFrom: %s\\r\\nTo: %s\\r\\nSubject: %s\\r\\nX-Mailer: My-Mail\\r\\n\\r\\n\" % (senddate, fromaddr, toaddr, subject)\n",
    "    msg='''Bweare of the flood situation'''\n",
    "    server.sendmail(fromaddr, toaddr, m+msg)\n",
    "    server.quit()"
   ]
  },
  {
   "cell_type": "code",
   "execution_count": 16,
   "metadata": {},
   "outputs": [
    {
     "name": "stdout",
     "output_type": "stream",
     "text": [
      "ranjan.patro@capgemini.com\n",
      "917008897423\n",
      "919908086992\n",
      "True\n",
      "12\n"
     ]
    }
   ],
   "source": [
    "print(result_df.EmailId[0])\n",
    "print(result_df.Mobile[0])\n",
    "print(result_df.Whatsapp[0])\n",
    "print(result_df.Enroll[0])\n",
    "print(result_df.EnrollType[0])"
   ]
  },
  {
   "cell_type": "code",
   "execution_count": 17,
   "metadata": {},
   "outputs": [],
   "source": [
    "# @hidden_cell\n",
    "    usr='hawkeye190729@gmail.com'\n",
    "    psw='29719!kwah'"
   ]
  },
  {
   "cell_type": "code",
   "execution_count": 18,
   "metadata": {},
   "outputs": [
    {
     "name": "stdout",
     "output_type": "stream",
     "text": [
      "ranjan.patro@capgemini.com\n"
     ]
    }
   ],
   "source": [
    "    # Fill these in with the appropriate info...\n",
    "    fromaddr=usr\n",
    "    # toaddr='patror.pstech@gmail.com'\n",
    "    toaddr=result_df.EmailId[0]\n",
    "    # toaddr=toaddr.repalce(\"\\'\",\"\")\n",
    "    print(toaddr)\n",
    "\n",
    "    # Send notification email\n",
    "    noticeEMail(usr, psw, fromaddr, toaddr)"
   ]
  },
  {
   "cell_type": "code",
   "execution_count": null,
   "metadata": {},
   "outputs": [],
   "source": []
  },
  {
   "cell_type": "markdown",
   "metadata": {},
   "source": [
    "# SMS/Whatsapp"
   ]
  },
  {
   "cell_type": "code",
   "execution_count": 19,
   "metadata": {
    "scrolled": false
   },
   "outputs": [
    {
     "name": "stdout",
     "output_type": "stream",
     "text": [
      "Collecting twilio\n",
      "\u001b[?25l  Downloading https://files.pythonhosted.org/packages/dc/99/daddec4d6bb161882e1599f1ec6d2864fa352e4656884172d82a555dba37/twilio-6.29.2-py2.py3-none-any.whl (1.0MB)\n",
      "\u001b[K     |████████████████████████████████| 1.0MB 303kB/s eta 0:00:01\n",
      "\u001b[?25hCollecting PyJWT>=1.4.2 (from twilio)\n",
      "  Downloading https://files.pythonhosted.org/packages/87/8b/6a9f14b5f781697e51259d81657e6048fd31a113229cf346880bb7545565/PyJWT-1.7.1-py2.py3-none-any.whl\n",
      "Requirement already satisfied: requests>=2.0.0; python_version >= \"3.0\" in /opt/conda/envs/Python36/lib/python3.6/site-packages (from twilio) (2.21.0)\n",
      "Requirement already satisfied: pysocks; python_version >= \"3.0\" in /opt/conda/envs/Python36/lib/python3.6/site-packages (from twilio) (1.6.8)\n",
      "Requirement already satisfied: pytz in /opt/conda/envs/Python36/lib/python3.6/site-packages (from twilio) (2018.9)\n",
      "Requirement already satisfied: six in /opt/conda/envs/Python36/lib/python3.6/site-packages (from twilio) (1.12.0)\n",
      "Requirement already satisfied: certifi>=2017.4.17 in /opt/conda/envs/Python36/lib/python3.6/site-packages (from requests>=2.0.0; python_version >= \"3.0\"->twilio) (2019.6.16)\n",
      "Requirement already satisfied: urllib3<1.25,>=1.21.1 in /opt/conda/envs/Python36/lib/python3.6/site-packages (from requests>=2.0.0; python_version >= \"3.0\"->twilio) (1.24.1)\n",
      "Requirement already satisfied: chardet<3.1.0,>=3.0.2 in /opt/conda/envs/Python36/lib/python3.6/site-packages (from requests>=2.0.0; python_version >= \"3.0\"->twilio) (3.0.4)\n",
      "Requirement already satisfied: idna<2.9,>=2.5 in /opt/conda/envs/Python36/lib/python3.6/site-packages (from requests>=2.0.0; python_version >= \"3.0\"->twilio) (2.8)\n",
      "Installing collected packages: PyJWT, twilio\n",
      "Successfully installed PyJWT-1.7.1 twilio-6.29.2\n"
     ]
    }
   ],
   "source": [
    "!pip install twilio"
   ]
  },
  {
   "cell_type": "code",
   "execution_count": 20,
   "metadata": {},
   "outputs": [],
   "source": [
    "# from twilio.rest import TwilioRestClient\n",
    "from twilio.rest import Client"
   ]
  },
  {
   "cell_type": "markdown",
   "metadata": {},
   "source": [
    "## SMS "
   ]
  },
  {
   "cell_type": "code",
   "execution_count": 21,
   "metadata": {},
   "outputs": [],
   "source": [
    "# @hidden_cell\n",
    "    sid = \"ACd2540e9538b40f444756d2ca1ab5b047\" # \"text-random\"\n",
    "    auth_token = \"2173124db980319808416226a367e99b\" # \"youAreAuthed\"\n",
    "    twilio_number = \"+17196242954\" # \"123-456-7890\"   "
   ]
  },
  {
   "cell_type": "code",
   "execution_count": 22,
   "metadata": {},
   "outputs": [],
   "source": [
    " def send_sms(msg, to):\n",
    "    \"\"\"\"\"\"\n",
    " \n",
    " \n",
    "    # client = TwilioRestClient(sid, auth_token)\n",
    "    client = Client(sid, auth_token)\n",
    " \n",
    "    message = client.messages.create(body=msg,\n",
    "                                     from_=twilio_number,\n",
    "                                     to=to,\n",
    "                                     )\n",
    "    print(message.sid)\n",
    "    \n",
    "    "
   ]
  },
  {
   "cell_type": "markdown",
   "metadata": {},
   "source": [
    "## Whatsapp"
   ]
  },
  {
   "cell_type": "code",
   "execution_count": 23,
   "metadata": {},
   "outputs": [],
   "source": [
    "# @hidden_cell\n",
    "    account_sid = 'ACe7076dbddb8251103d96540258c499a7' \n",
    "    auth_token = 'e4bd2fa885e685b7ab1b4481a0a57cf5' \n",
    "    fromT='whatsapp:+14155238886'"
   ]
  },
  {
   "cell_type": "code",
   "execution_count": 24,
   "metadata": {},
   "outputs": [],
   "source": [
    "# to_whatsapp_number=result_df.Whatsapp[0]\n",
    "def send_whatsapp(msg, to_whatsapp_number):\n",
    "    \"\"\"\"\"\"\n",
    "\n",
    "    client = Client(account_sid, auth_token) \n",
    "    print(to_whatsapp_number)\n",
    "    message = client.messages.create( \n",
    "                          from_=fromT,                            \n",
    "                          body=msg,      \n",
    "                          to='whatsapp:+' + str(to_whatsapp_number)\n",
    "                      ) \n",
    "\n",
    "    print(message.sid)"
   ]
  },
  {
   "cell_type": "markdown",
   "metadata": {},
   "source": [
    "## Send SMS/Whatsapp "
   ]
  },
  {
   "cell_type": "code",
   "execution_count": 28,
   "metadata": {},
   "outputs": [
    {
     "name": "stdout",
     "output_type": "stream",
     "text": [
      "919908086992\n",
      "SM3025eb1be610467a84d09572f7d97c2c\n"
     ]
    }
   ],
   "source": [
    "if __name__ == \"__main__\":\n",
    "    msg = \"Please be vary of the flood situation near you!!\"\n",
    "    to_s = \"+\" + str(result_df.Mobile[0])\n",
    "    to_w = result_df.Whatsapp[0]\n",
    "    # send_sms(msg, to_s)\n",
    "    send_whatsapp(msg,to_w)"
   ]
  },
  {
   "cell_type": "code",
   "execution_count": null,
   "metadata": {},
   "outputs": [],
   "source": []
  }
 ],
 "metadata": {
  "kernelspec": {
   "display_name": "Python 3.6",
   "language": "python",
   "name": "python3"
  },
  "language_info": {
   "codemirror_mode": {
    "name": "ipython",
    "version": 3
   },
   "file_extension": ".py",
   "mimetype": "text/x-python",
   "name": "python",
   "nbconvert_exporter": "python",
   "pygments_lexer": "ipython3",
   "version": "3.6.8"
  }
 },
 "nbformat": 4,
 "nbformat_minor": 1
}
